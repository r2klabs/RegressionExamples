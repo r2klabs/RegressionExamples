{
 "cells": [
  {
   "cell_type": "code",
   "execution_count": null,
   "id": "least-coordination",
   "metadata": {},
   "outputs": [],
   "source": [
    "import pandas as pd\n",
    "import numpy as np\n",
    "import seaborn as sns\n",
    "import matplotlib.pyplot as plt\n",
    "%matplotlib inline\n",
    "\n",
    "#For doing linear regression\n",
    "from sklearn.linear_model import LinearRegression\n",
    "\n",
    "#For making synthetic datasets\n",
    "from sklearn.datasets import make_regression\n",
    "from sklearn.datasets import make_blobs"
   ]
  },
  {
   "cell_type": "markdown",
   "id": "looking-mineral",
   "metadata": {},
   "source": [
    "# Scatterplots for Occular Test of Linearity"
   ]
  },
  {
   "cell_type": "code",
   "execution_count": null,
   "id": "rough-internship",
   "metadata": {},
   "outputs": [],
   "source": [
    "linear1x = np.linspace(-5,5, num=100).reshape(-1,1)\n",
    "linear1y = np.linspace(-2,2, num=100) \n",
    "plt.scatter(linear1x,linear1y)\n",
    "plt.grid(True)"
   ]
  },
  {
   "cell_type": "code",
   "execution_count": null,
   "id": "emotional-istanbul",
   "metadata": {},
   "outputs": [],
   "source": [
    "linear2x=np.random.randint(100, size=(100))\n",
    "linear2y = np.linspace(-2,2, num=100)\n",
    "plt.scatter(linear2x,linear2y)\n",
    "plt.grid(True)"
   ]
  },
  {
   "cell_type": "code",
   "execution_count": null,
   "id": "major-crowd",
   "metadata": {},
   "outputs": [],
   "source": [
    "linear3x = [1,2,2,3]\n",
    "linear3y = [1,2,3,6]\n",
    "plt.scatter(linear3x,linear3y)\n",
    "plt.grid(True)"
   ]
  },
  {
   "cell_type": "code",
   "execution_count": null,
   "id": "premium-cream",
   "metadata": {},
   "outputs": [],
   "source": [
    "year = np.array([0,1,2,3,4,5,6,7]).reshape(-1,1)\n",
    "income =np.array([53807,55217,55209,55415,63100,63206,63761,65766])\n",
    "plt.scatter(year,income)\n",
    "plt.ylim((0,70000))"
   ]
  },
  {
   "cell_type": "code",
   "execution_count": null,
   "id": "orange-praise",
   "metadata": {},
   "outputs": [],
   "source": [
    "df = pd.read_csv('processed_penguins.csv')\n",
    "#df.head()\n",
    "flipper = np.array(df.flipper_length_mm).reshape(-1,1)\n",
    "mass = df.body_mass_g\n",
    "plt.scatter(flipper,mass)\n",
    "plt.xlabel(\"Flipper Length\")\n",
    "plt.ylabel(\"Body Mass\")"
   ]
  },
  {
   "cell_type": "code",
   "execution_count": null,
   "id": "governing-filter",
   "metadata": {},
   "outputs": [],
   "source": [
    "linear6x=np.array([50,11,2,19,26,73,81,51,11,2,19,25]).reshape(-1,1)\n",
    "linear6y=[22.1,35.9,57.9,22.2,42.4,5.8,3.6,21.4,55.2,33.3,32.4,38.4]\n",
    "plt.scatter(linear6x,linear6y)"
   ]
  },
  {
   "cell_type": "markdown",
   "id": "figured-shape",
   "metadata": {},
   "source": [
    "# Performing Linear Regression w/Scikit-Learn"
   ]
  },
  {
   "cell_type": "code",
   "execution_count": null,
   "id": "unlimited-imagination",
   "metadata": {},
   "outputs": [],
   "source": [
    "model1 = LinearRegression()\n",
    "model1.fit(linear1x,linear1y)\n",
    "model1.score(linear1x,linear1y)"
   ]
  },
  {
   "cell_type": "code",
   "execution_count": null,
   "id": "macro-heavy",
   "metadata": {},
   "outputs": [],
   "source": [
    "model2 = LinearRegression()\n",
    "linear2x = linear2x.reshape(-1,1)\n",
    "model2.fit(linear2x,linear2y)\n",
    "model2.score(linear2x,linear2y)"
   ]
  },
  {
   "cell_type": "code",
   "execution_count": null,
   "id": "monetary-effect",
   "metadata": {},
   "outputs": [],
   "source": [
    "model3 = LinearRegression()\n",
    "linear3x = np.array(linear3x).reshape(-1,1)\n",
    "model3.fit(linear3x,linear3y)\n",
    "model3.score(linear3x,linear3y)"
   ]
  },
  {
   "cell_type": "code",
   "execution_count": null,
   "id": "pediatric-affect",
   "metadata": {},
   "outputs": [],
   "source": [
    "model4 = LinearRegression()\n",
    "model4.fit(year,income)\n",
    "model4.score(year,income)"
   ]
  },
  {
   "cell_type": "code",
   "execution_count": null,
   "id": "demographic-apparel",
   "metadata": {},
   "outputs": [],
   "source": [
    "x_new = np.array([8,9,10,11,12,13,14,15]).reshape(-1,1)\n",
    "y_new = model4.predict(x_new)\n",
    "print(y_new)"
   ]
  },
  {
   "cell_type": "code",
   "execution_count": null,
   "id": "norwegian-federation",
   "metadata": {},
   "outputs": [],
   "source": [
    "print(model4.coef_,model4.intercept_)"
   ]
  },
  {
   "cell_type": "markdown",
   "id": "ranging-throat",
   "metadata": {},
   "source": [
    "$$ y=1882.25x + 52847.25 $$"
   ]
  },
  {
   "cell_type": "code",
   "execution_count": null,
   "id": "tracked-lecture",
   "metadata": {},
   "outputs": [],
   "source": [
    "prediction = model4.coef_*8+model4.intercept_\n",
    "print(prediction)"
   ]
  },
  {
   "cell_type": "code",
   "execution_count": null,
   "id": "relative-blank",
   "metadata": {},
   "outputs": [],
   "source": [
    "model5 = LinearRegression()\n",
    "model5.fit(flipper,mass)\n",
    "model5.score(flipper,mass)"
   ]
  },
  {
   "cell_type": "code",
   "execution_count": null,
   "id": "stretch-phone",
   "metadata": {},
   "outputs": [],
   "source": [
    "print(model5.coef_,model5.intercept_)"
   ]
  },
  {
   "cell_type": "code",
   "execution_count": null,
   "id": "conservative-affect",
   "metadata": {},
   "outputs": [],
   "source": [
    "x_new = np.array([185,183,193,178]).reshape(-1,1)\n",
    "y_new = model5.predict(x_new)\n",
    "print(y_new)"
   ]
  },
  {
   "cell_type": "code",
   "execution_count": null,
   "id": "homeless-midwest",
   "metadata": {},
   "outputs": [],
   "source": [
    "model6 = LinearRegression()\n",
    "model6.fit(linear6x,linear6y)\n",
    "model6.score(linear6x,linear6y)"
   ]
  },
  {
   "cell_type": "code",
   "execution_count": null,
   "id": "abandoned-renaissance",
   "metadata": {},
   "outputs": [],
   "source": [
    "print(model6.coef_,model6.intercept_)"
   ]
  },
  {
   "cell_type": "markdown",
   "id": "dirty-graduation",
   "metadata": {},
   "source": [
    "# Regression Under the Hood"
   ]
  },
  {
   "cell_type": "code",
   "execution_count": null,
   "id": "silver-contamination",
   "metadata": {},
   "outputs": [],
   "source": [
    "x = np.arange(-2,2,.1)\n",
    "y = np.arange(-2,2,.1)"
   ]
  },
  {
   "cell_type": "code",
   "execution_count": null,
   "id": "nervous-racing",
   "metadata": {},
   "outputs": [],
   "source": [
    "x"
   ]
  },
  {
   "cell_type": "code",
   "execution_count": null,
   "id": "legendary-anatomy",
   "metadata": {},
   "outputs": [],
   "source": [
    "xbar=x.mean()"
   ]
  },
  {
   "cell_type": "code",
   "execution_count": null,
   "id": "directed-civilization",
   "metadata": {},
   "outputs": [],
   "source": [
    "ybar=y.mean()"
   ]
  },
  {
   "cell_type": "code",
   "execution_count": null,
   "id": "devoted-swiss",
   "metadata": {},
   "outputs": [],
   "source": [
    "plt.scatter(x,y)\n",
    "plt.grid(True)"
   ]
  },
  {
   "cell_type": "code",
   "execution_count": null,
   "id": "baking-spectacular",
   "metadata": {},
   "outputs": [],
   "source": [
    "np.sum((x-xbar)*(y-ybar))"
   ]
  },
  {
   "cell_type": "code",
   "execution_count": null,
   "id": "cathedral-filing",
   "metadata": {},
   "outputs": [],
   "source": [
    "np.sum((x-xbar)**2)"
   ]
  },
  {
   "cell_type": "code",
   "execution_count": null,
   "id": "precise-blackberry",
   "metadata": {},
   "outputs": [],
   "source": [
    "m = len(x)"
   ]
  },
  {
   "cell_type": "code",
   "execution_count": null,
   "id": "sophisticated-grill",
   "metadata": {},
   "outputs": [],
   "source": [
    "1/(2*m)"
   ]
  },
  {
   "cell_type": "code",
   "execution_count": null,
   "id": "rotary-guide",
   "metadata": {},
   "outputs": [],
   "source": [
    "theta0=0.0\n",
    "theta1=10.0"
   ]
  },
  {
   "cell_type": "code",
   "execution_count": null,
   "id": "linear-humidity",
   "metadata": {},
   "outputs": [],
   "source": [
    "h_theta_x = theta0 + theta1*x"
   ]
  },
  {
   "cell_type": "code",
   "execution_count": null,
   "id": "logical-adult",
   "metadata": {},
   "outputs": [],
   "source": [
    "q = h_theta_x-y\n",
    "r = q**2"
   ]
  },
  {
   "cell_type": "code",
   "execution_count": null,
   "id": "massive-modern",
   "metadata": {},
   "outputs": [],
   "source": [
    "plt.plot(q,r)\n",
    "plt.plot(x, h_theta_x)\n",
    "plt.grid(True)"
   ]
  },
  {
   "cell_type": "code",
   "execution_count": null,
   "id": "amended-delight",
   "metadata": {},
   "outputs": [],
   "source": [
    "sum(r)*(1/(2*m))"
   ]
  }
 ],
 "metadata": {
  "kernelspec": {
   "display_name": "Python 3",
   "language": "python",
   "name": "python3"
  },
  "language_info": {
   "codemirror_mode": {
    "name": "ipython",
    "version": 3
   },
   "file_extension": ".py",
   "mimetype": "text/x-python",
   "name": "python",
   "nbconvert_exporter": "python",
   "pygments_lexer": "ipython3",
   "version": "3.8.6"
  }
 },
 "nbformat": 4,
 "nbformat_minor": 5
}
